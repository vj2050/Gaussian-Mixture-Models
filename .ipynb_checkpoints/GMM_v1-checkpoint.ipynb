{
 "cells": [
  {
   "cell_type": "code",
   "execution_count": 66,
   "metadata": {},
   "outputs": [],
   "source": [
    "import numpy as np\n",
    "%matplotlib inline\n",
    "import matplotlib.pyplot as plt\n",
    "#from random import normal"
   ]
  },
  {
   "cell_type": "code",
   "execution_count": 67,
   "metadata": {},
   "outputs": [],
   "source": []
  },
  {
   "cell_type": "code",
   "execution_count": 133,
   "metadata": {},
   "outputs": [],
   "source": [
    "np.random.seed(0)\n",
    "dis1=np.random.normal(0,1,50)\n",
    "dis2=np.random.normal(5,1,50)\n",
    "dis3=np.random.normal(10,1,50)\n",
    "K=3"
   ]
  },
  {
   "cell_type": "code",
   "execution_count": 134,
   "metadata": {},
   "outputs": [
    {
     "data": {
      "text/plain": [
       "(150,)"
      ]
     },
     "execution_count": 134,
     "metadata": {},
     "output_type": "execute_result"
    }
   ],
   "source": [
    "A=np.concatenate([dis1,dis2])\n",
    "X=np.concatenate([A,dis3])\n",
    "X.shape"
   ]
  },
  {
   "cell_type": "code",
   "execution_count": 135,
   "metadata": {},
   "outputs": [
    {
     "name": "stderr",
     "output_type": "stream",
     "text": [
      "C:\\Users\\vaish\\Anaconda3\\lib\\site-packages\\ipykernel_launcher.py:4: MatplotlibDeprecationWarning: \n",
      "The 'normed' kwarg was deprecated in Matplotlib 2.1 and will be removed in 3.1. Use 'density' instead.\n",
      "  after removing the cwd from sys.path.\n"
     ]
    },
    {
     "data": {
      "image/png": "[encoded data removed]",
      "text/plain": [
       "<Figure size 1080x504 with 1 Axes>"
      ]
     },
     "metadata": {
      "needs_background": "light"
     },
     "output_type": "display_data"
    },
    {
     "data": {
      "text/plain": [
       "<Figure size 1080x504 with 0 Axes>"
      ]
     },
     "metadata": {},
     "output_type": "display_data"
    }
   ],
   "source": [
    "def plot_hist(data):\n",
    "    plt.figure(figsize=(15,7))\n",
    "    for x in data:\n",
    "        plt.hist(x, bins = 80, normed = True, alpha = 0.7)\n",
    "    #plt.xlim(-10, 20)\n",
    "    plt.figure(figsize=(15,7))\n",
    "    \n",
    "plot_hist(X)"
   ]
  },
  {
   "cell_type": "code",
   "execution_count": 122,
   "metadata": {},
   "outputs": [
    {
     "data": {
      "text/plain": [
       "array([[0., 0., 0.],\n",
       "       [0., 0., 0.],\n",
       "       [0., 0., 0.],\n",
       "       [0., 0., 0.],\n",
       "       [0., 0., 0.],\n",
       "       [0., 0., 0.],\n",
       "       [0., 0., 0.],\n",
       "       [0., 0., 0.],\n",
       "       [0., 0., 0.],\n",
       "       [0., 0., 0.],\n",
       "       [0., 0., 0.],\n",
       "       [0., 0., 0.],\n",
       "       [0., 0., 0.],\n",
       "       [0., 0., 0.],\n",
       "       [0., 0., 0.],\n",
       "       [0., 0., 0.],\n",
       "       [0., 0., 0.],\n",
       "       [0., 0., 0.],\n",
       "       [0., 0., 0.],\n",
       "       [0., 0., 0.],\n",
       "       [0., 0., 0.],\n",
       "       [0., 0., 0.],\n",
       "       [0., 0., 0.],\n",
       "       [0., 0., 0.],\n",
       "       [0., 0., 0.],\n",
       "       [0., 0., 0.],\n",
       "       [0., 0., 0.],\n",
       "       [0., 0., 0.],\n",
       "       [0., 0., 0.],\n",
       "       [0., 0., 0.],\n",
       "       [0., 0., 0.],\n",
       "       [0., 0., 0.],\n",
       "       [0., 0., 0.],\n",
       "       [0., 0., 0.],\n",
       "       [0., 0., 0.],\n",
       "       [0., 0., 0.],\n",
       "       [0., 0., 0.],\n",
       "       [0., 0., 0.],\n",
       "       [0., 0., 0.],\n",
       "       [0., 0., 0.],\n",
       "       [0., 0., 0.],\n",
       "       [0., 0., 0.],\n",
       "       [0., 0., 0.],\n",
       "       [0., 0., 0.],\n",
       "       [0., 0., 0.],\n",
       "       [0., 0., 0.],\n",
       "       [0., 0., 0.],\n",
       "       [0., 0., 0.],\n",
       "       [0., 0., 0.],\n",
       "       [0., 0., 0.],\n",
       "       [0., 0., 0.],\n",
       "       [0., 0., 0.],\n",
       "       [0., 0., 0.],\n",
       "       [0., 0., 0.],\n",
       "       [0., 0., 0.],\n",
       "       [0., 0., 0.],\n",
       "       [0., 0., 0.],\n",
       "       [0., 0., 0.],\n",
       "       [0., 0., 0.],\n",
       "       [0., 0., 0.],\n",
       "       [0., 0., 0.],\n",
       "       [0., 0., 0.],\n",
       "       [0., 0., 0.],\n",
       "       [0., 0., 0.],\n",
       "       [0., 0., 0.],\n",
       "       [0., 0., 0.],\n",
       "       [0., 0., 0.],\n",
       "       [0., 0., 0.],\n",
       "       [0., 0., 0.],\n",
       "       [0., 0., 0.],\n",
       "       [0., 0., 0.],\n",
       "       [0., 0., 0.],\n",
       "       [0., 0., 0.],\n",
       "       [0., 0., 0.],\n",
       "       [0., 0., 0.],\n",
       "       [0., 0., 0.],\n",
       "       [0., 0., 0.],\n",
       "       [0., 0., 0.],\n",
       "       [0., 0., 0.],\n",
       "       [0., 0., 0.],\n",
       "       [0., 0., 0.],\n",
       "       [0., 0., 0.],\n",
       "       [0., 0., 0.],\n",
       "       [0., 0., 0.],\n",
       "       [0., 0., 0.],\n",
       "       [0., 0., 0.],\n",
       "       [0., 0., 0.],\n",
       "       [0., 0., 0.],\n",
       "       [0., 0., 0.],\n",
       "       [0., 0., 0.],\n",
       "       [0., 0., 0.],\n",
       "       [0., 0., 0.],\n",
       "       [0., 0., 0.],\n",
       "       [0., 0., 0.],\n",
       "       [0., 0., 0.],\n",
       "       [0., 0., 0.],\n",
       "       [0., 0., 0.],\n",
       "       [0., 0., 0.],\n",
       "       [0., 0., 0.],\n",
       "       [0., 0., 0.],\n",
       "       [0., 0., 0.],\n",
       "       [0., 0., 0.],\n",
       "       [0., 0., 0.],\n",
       "       [0., 0., 0.],\n",
       "       [0., 0., 0.],\n",
       "       [0., 0., 0.],\n",
       "       [0., 0., 0.],\n",
       "       [0., 0., 0.],\n",
       "       [0., 0., 0.],\n",
       "       [0., 0., 0.],\n",
       "       [0., 0., 0.],\n",
       "       [0., 0., 0.],\n",
       "       [0., 0., 0.],\n",
       "       [0., 0., 0.],\n",
       "       [0., 0., 0.],\n",
       "       [0., 0., 0.],\n",
       "       [0., 0., 0.],\n",
       "       [0., 0., 0.],\n",
       "       [0., 0., 0.],\n",
       "       [0., 0., 0.],\n",
       "       [0., 0., 0.],\n",
       "       [0., 0., 0.],\n",
       "       [0., 0., 0.],\n",
       "       [0., 0., 0.],\n",
       "       [0., 0., 0.],\n",
       "       [0., 0., 0.],\n",
       "       [0., 0., 0.],\n",
       "       [0., 0., 0.],\n",
       "       [0., 0., 0.],\n",
       "       [0., 0., 0.],\n",
       "       [0., 0., 0.],\n",
       "       [0., 0., 0.],\n",
       "       [0., 0., 0.],\n",
       "       [0., 0., 0.],\n",
       "       [0., 0., 0.],\n",
       "       [0., 0., 0.],\n",
       "       [0., 0., 0.],\n",
       "       [0., 0., 0.],\n",
       "       [0., 0., 0.],\n",
       "       [0., 0., 0.],\n",
       "       [0., 0., 0.],\n",
       "       [0., 0., 0.],\n",
       "       [0., 0., 0.],\n",
       "       [0., 0., 0.],\n",
       "       [0., 0., 0.],\n",
       "       [0., 0., 0.],\n",
       "       [0., 0., 0.],\n",
       "       [0., 0., 0.],\n",
       "       [0., 0., 0.],\n",
       "       [0., 0., 0.]])"
      ]
     },
     "execution_count": 122,
     "metadata": {},
     "output_type": "execute_result"
    }
   ],
   "source": [
    "#initializing parameters:\n",
    "\n",
    "\n",
    "#means=np.random.\n",
    "\n",
    "#initial fraction/probability of inputs belonging to each of the 3 clusters/gaussians\n",
    "\n",
    "wprior\n",
    "\n",
    "#posterior probability that each input belongs to each of the 3 gaussians\n",
    "postprob=np.zeros((len(X),K),dtype=float)\n",
    "postprob"
   ]
  },
  {
   "cell_type": "code",
   "execution_count": 124,
   "metadata": {},
   "outputs": [
    {
     "data": {
      "text/plain": [
       "'\\ngauss_1 = norm(loc=-5,scale=5) \\ngauss_2 = norm(loc=8,scale=3)\\ngauss_3 = norm(loc=1.5,scale=1)\\n'"
      ]
     },
     "execution_count": 124,
     "metadata": {},
     "output_type": "execute_result"
    }
   ],
   "source": [
    "'''\n",
    "gauss_1 = norm(loc=-5,scale=5) \n",
    "gauss_2 = norm(loc=8,scale=3)\n",
    "gauss_3 = norm(loc=1.5,scale=1)\n",
    "'''\n"
   ]
  },
  {
   "cell_type": "code",
   "execution_count": null,
   "metadata": {},
   "outputs": [],
   "source": []
  },
  {
   "cell_type": "code",
   "execution_count": 247,
   "metadata": {},
   "outputs": [],
   "source": [
    "def initialize(X,K):\n",
    "    #meanli=[]\n",
    "    #for i in range(K):    \n",
    "    m=np.random.choice(X,size=3)\n",
    "    v=np.ones((3))\n",
    "    w=np.ones((K))/K\n",
    "        \n",
    "    return m,v,w"
   ]
  },
  {
   "cell_type": "code",
   "execution_count": 248,
   "metadata": {},
   "outputs": [
    {
     "data": {
      "text/plain": [
       "(array([10.94725197,  5.17742614, -1.45436567]),\n",
       " array([1., 1., 1.]),\n",
       " array([0.33333333, 0.33333333, 0.33333333]))"
      ]
     },
     "execution_count": 248,
     "metadata": {},
     "output_type": "execute_result"
    }
   ],
   "source": [
    "means,var,wprior=initialize(X,K)\n",
    "means,var,wprior"
   ]
  },
  {
   "cell_type": "code",
   "execution_count": 249,
   "metadata": {
    "scrolled": true
   },
   "outputs": [
    {
     "data": {
      "text/plain": [
       "0.4001572083672233"
      ]
     },
     "execution_count": 249,
     "metadata": {},
     "output_type": "execute_result"
    }
   ],
   "source": [
    "X[1]"
   ]
  },
  {
   "cell_type": "code",
   "execution_count": 250,
   "metadata": {},
   "outputs": [
    {
     "data": {
      "text/plain": [
       "((3,), (3,))"
      ]
     },
     "execution_count": 250,
     "metadata": {},
     "output_type": "execute_result"
    }
   ],
   "source": [
    "wprior.shape, part4.shape"
   ]
  },
  {
   "cell_type": "code",
   "execution_count": 251,
   "metadata": {},
   "outputs": [
    {
     "data": {
      "text/plain": [
       "(150, 3)"
      ]
     },
     "execution_count": 251,
     "metadata": {},
     "output_type": "execute_result"
    }
   ],
   "source": [
    "posterior=np.zeros((len(X),K),dtype=float)\n",
    "pi=3.14\n",
    "posterior.shape"
   ]
  },
  {
   "cell_type": "code",
   "execution_count": 259,
   "metadata": {},
   "outputs": [
    {
     "data": {
      "text/plain": [
       "array([[5.67575103e-17, 3.43789277e-01, 6.56210723e-01],\n",
       "       [3.90010727e-24, 6.18014658e-05, 9.99938199e-01],\n",
       "       [5.08240846e-21, 2.85878863e-03, 9.97141211e-01],\n",
       "       [2.39253164e-15, 9.25245950e-01, 7.47540495e-02],\n",
       "       [1.52988752e-16, 5.09992376e-01, 4.90007624e-01],\n",
       "       [1.48696661e-31, 6.66507637e-09, 9.99999993e-01],\n",
       "       [3.56434067e-21, 2.36527625e-03, 9.97634724e-01],\n",
       "       [4.17514307e-27, 1.59433783e-06, 9.99998406e-01],\n",
       "       [7.58476415e-27, 2.19394536e-06, 9.99997806e-01],\n",
       "       [4.43926383e-24, 6.62322257e-05, 9.99933768e-01],\n",
       "       [1.62810416e-25, 1.13077152e-05, 9.99988692e-01],\n",
       "       [1.73900310e-18, 6.29236999e-02, 9.37076300e-01],\n",
       "       [3.42369836e-22, 6.76273001e-04, 9.99323727e-01],\n",
       "       [1.23369230e-25, 9.74879041e-06, 9.99990251e-01],\n",
       "       [6.70604047e-24, 8.25790122e-05, 9.99917421e-01],\n",
       "       [1.71006405e-24, 3.97674402e-05, 9.99960233e-01],\n",
       "       [2.79584472e-18, 8.04048072e-02, 9.19595193e-01],\n",
       "       [2.14240491e-27, 1.11590036e-06, 9.99998884e-01],\n",
       "       [1.32442766e-24, 3.46880317e-05, 9.99965312e-01],\n",
       "       [6.85100950e-31, 1.50864911e-08, 9.99999985e-01],\n",
       "       [4.84829508e-40, 1.92982296e-13, 1.00000000e+00],\n",
       "       [9.03838144e-23, 3.31809223e-04, 9.99668191e-01],\n",
       "       [1.23340491e-21, 1.34163991e-03, 9.98658360e-01],\n",
       "       [2.74541674e-30, 3.16931613e-08, 9.99999968e-01],\n",
       "       [2.86332967e-15, 9.37453634e-01, 6.25463655e-02],\n",
       "       [4.00615964e-34, 2.81656928e-10, 1.00000000e+00],\n",
       "       [4.81200143e-26, 5.89252533e-06, 9.99994107e-01],\n",
       "       [2.67738521e-27, 1.25717106e-06, 9.99998743e-01],\n",
       "       [4.41419341e-18, 1.01541921e-01, 8.98458079e-01],\n",
       "       [2.08297012e-18, 6.90869833e-02, 9.30913017e-01],\n",
       "       [1.86384365e-25, 1.21556794e-05, 9.99987844e-01],\n",
       "       [2.96905205e-24, 5.34139140e-05, 9.99946586e-01],\n",
       "       [4.51130025e-31, 1.20657951e-08, 9.99999988e-01],\n",
       "       [5.85323763e-37, 8.58065573e-12, 1.00000000e+00],\n",
       "       [3.64784162e-28, 4.32985174e-07, 9.99999567e-01],\n",
       "       [1.89652284e-25, 1.22691886e-05, 9.99987731e-01],\n",
       "       [1.13660929e-19, 1.49755248e-02, 9.85024475e-01],\n",
       "       [8.06092963e-20, 1.24765652e-02, 9.87523435e-01],\n",
       "       [2.23743498e-28, 3.33390246e-07, 9.99999667e-01],\n",
       "       [6.42223269e-28, 5.85915377e-07, 9.99999414e-01],\n",
       "       [6.14351440e-32, 4.15453242e-09, 9.99999996e-01],\n",
       "       [6.13371495e-34, 3.53709802e-10, 1.00000000e+00],\n",
       "       [1.76190338e-35, 5.29904367e-11, 1.00000000e+00],\n",
       "       [3.12152634e-16, 6.43790731e-01, 3.56209269e-01],\n",
       "       [4.90808083e-29, 1.48128116e-07, 9.99999852e-01],\n",
       "       [1.19241339e-28, 2.38118169e-07, 9.99999762e-01],\n",
       "       [4.87951565e-33, 1.07219382e-09, 9.99999999e-01],\n",
       "       [4.19831238e-22, 7.54178670e-04, 9.99245821e-01],\n",
       "       [5.53981535e-35, 9.77785869e-11, 1.00000000e+00],\n",
       "       [1.95013728e-27, 1.06117764e-06, 9.99998939e-01],\n",
       "       [1.20925144e-10, 9.99999653e-01, 3.46587458e-07],\n",
       "       [1.97643064e-07, 9.99999802e-01, 7.02096655e-11],\n",
       "       [1.11276306e-09, 9.99999972e-01, 2.70352353e-08],\n",
       "       [2.33317195e-11, 9.99997703e-01, 2.29684629e-06],\n",
       "       [1.80202532e-08, 9.99999981e-01, 1.10129458e-09],\n",
       "       [2.51012543e-07, 9.99999749e-01, 5.33425838e-11],\n",
       "       [3.11213982e-08, 9.99999968e-01, 5.87698817e-10],\n",
       "       [1.21426958e-07, 9.99999878e-01, 1.22905065e-10],\n",
       "       [5.45623998e-10, 9.99999938e-01, 6.13306509e-08],\n",
       "       [2.61470037e-09, 9.99999987e-01, 1.01270657e-08],\n",
       "       [4.37850887e-10, 9.99999921e-01, 7.89808438e-08],\n",
       "       [2.66324084e-09, 9.99999987e-01, 9.91520489e-09],\n",
       "       [1.94444258e-10, 9.99999799e-01, 2.00778916e-07],\n",
       "       [1.00142358e-12, 9.99914365e-01, 8.56349627e-05],\n",
       "       [5.90167174e-08, 9.99999941e-01, 2.81656912e-10],\n",
       "       [2.08735316e-09, 9.99999985e-01, 1.31197042e-08],\n",
       "       [1.74342635e-12, 9.99954717e-01, 4.52826166e-05],\n",
       "       [3.06211357e-07, 9.99999694e-01, 4.24474619e-11],\n",
       "       [1.12945369e-10, 9.99999625e-01, 3.74878217e-07],\n",
       "       [2.86117859e-08, 9.99999971e-01, 6.47327224e-10],\n",
       "       [1.42343323e-06, 9.99998577e-01, 7.25843874e-12],\n",
       "       [4.46257816e-08, 9.99999955e-01, 3.88368700e-10],\n",
       "       [1.51875483e-05, 9.99984812e-01, 4.77619771e-13],\n",
       "       [1.70666275e-11, 9.99996710e-01, 3.29016240e-06],\n",
       "       [2.16057342e-07, 9.99999784e-01, 6.33767315e-11],\n",
       "       [4.07737309e-10, 9.99999914e-01, 8.57216651e-08],\n",
       "       [1.39422651e-10, 9.99999706e-01, 2.94280336e-07],\n",
       "       [7.51443754e-10, 9.99999957e-01, 4.24530242e-08],\n",
       "       [3.51310062e-09, 9.99999989e-01, 7.21194909e-09],\n",
       "       [2.93169862e-08, 9.99999970e-01, 6.29462397e-10],\n",
       "       [2.55118853e-11, 9.99997927e-01, 2.07271958e-06],\n",
       "       [3.83418036e-06, 9.99996166e-01, 2.32389683e-12],\n",
       "       [3.11342543e-07, 9.99999689e-01, 4.16443762e-11],\n",
       "       [2.99808985e-12, 9.99975715e-01, 2.42849415e-05],\n",
       "       [1.13657538e-04, 9.99886342e-01, 4.72383422e-14],\n",
       "       [1.19285438e-03, 9.98807146e-01, 3.16060161e-15],\n",
       "       [1.90617049e-05, 9.99980938e-01, 3.67843842e-13],\n",
       "       [7.50799082e-09, 9.99999989e-01, 3.01262493e-09],\n",
       "       [4.39828996e-11, 9.99998892e-01, 1.10831385e-06],\n",
       "       [9.30303875e-06, 9.99990697e-01, 8.38978135e-13],\n",
       "       [2.07060761e-09, 9.99999985e-01, 1.32417311e-08],\n",
       "       [2.45231656e-05, 9.99975477e-01, 2.75358131e-13],\n",
       "       [7.05141323e-08, 9.99999929e-01, 2.29546733e-10],\n",
       "       [5.93803808e-06, 9.99994062e-01, 1.40560849e-12],\n",
       "       [1.65715879e-07, 9.99999834e-01, 8.59697148e-11],\n",
       "       [1.25000863e-06, 9.99998750e-01, 8.42746149e-12],\n",
       "       [2.25263591e-08, 9.99999977e-01, 8.52104378e-10],\n",
       "       [6.32624136e-04, 9.99367376e-01, 6.55969515e-15],\n",
       "       [4.40957540e-08, 9.99999956e-01, 3.93739050e-10],\n",
       "       [2.15618634e-07, 9.99999784e-01, 6.35249674e-11],\n",
       "       [1.00000000e+00, 2.66561085e-10, 3.64771287e-39],\n",
       "       [9.67817824e-01, 3.21821756e-02, 8.89909717e-22],\n",
       "       [9.79153228e-01, 2.08467725e-02, 3.45309429e-22],\n",
       "       [9.99999948e-01, 5.19379357e-08, 3.04409130e-34],\n",
       "       [9.88005599e-01, 1.19944006e-02, 1.04167468e-22],\n",
       "       [1.00000000e+00, 1.88048375e-10, 1.72317494e-39],\n",
       "       [9.99848300e-01, 1.51699587e-04, 8.55560728e-27],\n",
       "       [9.98959780e-01, 1.04022021e-03, 5.36894797e-25],\n",
       "       [1.00000000e+00, 2.11878795e-10, 2.22692900e-39],\n",
       "       [9.99999997e-01, 2.72096663e-09, 5.37773199e-37],\n",
       "       [1.00000000e+00, 2.91653086e-10, 4.42585339e-39],\n",
       "       [9.99999925e-01, 7.48570079e-08, 6.67834572e-34],\n",
       "       [9.97996480e-01, 2.00352031e-03, 2.19904900e-24],\n",
       "       [1.00000000e+00, 2.28220635e-10, 2.61253247e-39],\n",
       "       [9.99934516e-01, 6.54843826e-05, 1.40607762e-27],\n",
       "       [9.99999864e-01, 1.36083124e-07, 2.41318434e-33],\n",
       "       [9.99999941e-01, 5.90167174e-08, 4.00615941e-34],\n",
       "       [9.99965880e-01, 3.41202658e-05, 3.46295070e-28],\n",
       "       [9.99999597e-01, 4.03496681e-07, 2.49563114e-32],\n",
       "       [9.99999932e-01, 6.81920328e-08, 5.46538850e-34],\n",
       "       [9.99998410e-01, 1.58983948e-06, 4.75524123e-31],\n",
       "       [9.92128587e-01, 7.87141336e-03, 4.19250943e-23],\n",
       "       [9.99997504e-01, 2.49617505e-06, 1.25396575e-30],\n",
       "       [9.99999993e-01, 6.62124930e-09, 3.63689118e-36],\n",
       "       [9.99233133e-01, 7.66866561e-04, 2.78715630e-25],\n",
       "       [9.99966922e-01, 3.30782694e-05, 3.23962156e-28],\n",
       "       [9.99828234e-01, 1.71765954e-04, 1.11744546e-26],\n",
       "       [1.00000000e+00, 3.24123733e-10, 5.55308477e-39],\n",
       "       [9.99999712e-01, 2.88379043e-07, 1.21236962e-32],\n",
       "       [9.99998671e-01, 1.32917605e-06, 3.23603009e-31],\n",
       "       [9.98816015e-01, 1.18398525e-03, 7.09254372e-25],\n",
       "       [9.99999379e-01, 6.21369022e-07, 6.31265729e-32],\n",
       "       [9.99317581e-01, 6.82418936e-04, 2.16876338e-25],\n",
       "       [9.99988390e-01, 1.16101070e-05, 3.41303633e-29],\n",
       "       [9.99453399e-01, 5.46600818e-04, 1.34581148e-25],\n",
       "       [9.99999718e-01, 2.81574509e-07, 1.15171513e-32],\n",
       "       [9.99999499e-01, 5.00932114e-07, 3.97275684e-32],\n",
       "       [9.99953598e-01, 4.64021379e-05, 6.70581033e-28],\n",
       "       [9.99998580e-01, 1.41999481e-06, 3.73000387e-31],\n",
       "       [9.92409148e-01, 7.59085194e-03, 3.87662474e-23],\n",
       "       [9.29279206e-01, 7.07207941e-02, 5.06494878e-21],\n",
       "       [9.99998894e-01, 1.10553536e-06, 2.17790966e-31],\n",
       "       [9.99994667e-01, 5.33272319e-06, 6.41040940e-30],\n",
       "       [9.99999642e-01, 3.57551187e-07, 1.92456927e-32],\n",
       "       [1.00000000e+00, 1.48905188e-11, 7.39733842e-42],\n",
       "       [9.99999940e-01, 5.99683834e-08, 4.14629960e-34],\n",
       "       [9.97303609e-01, 2.69639133e-03, 4.16706127e-24],\n",
       "       [9.99999978e-01, 2.21604734e-08, 4.87961327e-35],\n",
       "       [9.73075096e-01, 2.69249040e-02, 6.02763800e-22],\n",
       "       [9.99799942e-01, 2.00057953e-04, 1.55085247e-26]])"
      ]
     },
     "execution_count": 259,
     "metadata": {},
     "output_type": "execute_result"
    }
   ],
   "source": [
    "K=3\n",
    "for i in range(len(X)):\n",
    "    \n",
    "    part1 = 1/((2*pi*(var))**0.5)\n",
    "    part2=-1*((X[i]-means)**2)\n",
    "    part3= part2/(2*var)\n",
    "    part4=np.exp(part3)\n",
    "    posterior[i]=wprior*part4                          #unnormalised\n",
    "    posterior[i]=posterior[i]/np.sum(posterior[i])    #normalised posterior probabilities so that it sums to 1 \n",
    "\n",
    "\n",
    "posterior\n",
    "\n",
    "\n",
    "        "
   ]
  },
  {
   "cell_type": "code",
   "execution_count": 257,
   "metadata": {},
   "outputs": [],
   "source": [
    "#def Gaussian(X,K):\n",
    "    \n",
    "#means,var,wprior=initialize(X,K)"
   ]
  },
  {
   "cell_type": "code",
   "execution_count": null,
   "metadata": {},
   "outputs": [],
   "source": []
  },
  {
   "cell_type": "code",
   "execution_count": null,
   "metadata": {},
   "outputs": [],
   "source": []
  }
 ],
 "metadata": {
  "kernelspec": {
   "display_name": "Python 3",
   "language": "python",
   "name": "python3"
  },
  "language_info": {
   "codemirror_mode": {
    "name": "ipython",
    "version": 3
   },
   "file_extension": ".py",
   "mimetype": "text/x-python",
   "name": "python",
   "nbconvert_exporter": "python",
   "pygments_lexer": "ipython3",
   "version": "3.7.4"
  }
 },
 "nbformat": 4,
 "nbformat_minor": 2
}
